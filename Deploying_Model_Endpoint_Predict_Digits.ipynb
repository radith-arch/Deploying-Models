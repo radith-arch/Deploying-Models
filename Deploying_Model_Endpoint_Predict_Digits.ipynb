{
  "nbformat": 4,
  "nbformat_minor": 0,
  "metadata": {
    "colab": {
      "name": "Deploying Model-Endpoint Predict Digits.ipynb",
      "provenance": [],
      "collapsed_sections": []
    },
    "kernelspec": {
      "name": "python3",
      "display_name": "Python 3"
    }
  },
  "cells": [
    {
      "cell_type": "markdown",
      "metadata": {
        "id": "XH9OUl-kMS-W"
      },
      "source": [
        "Menyimpan Model Keras"
      ]
    },
    {
      "cell_type": "code",
      "metadata": {
        "id": "8EJgus9eMhLe"
      },
      "source": [
        "from tensorflow.keras.datasets import mnist\n",
        "(feature_train, label_train), (feature_test, label_test) = mnist.load_data()"
      ],
      "execution_count": null,
      "outputs": []
    },
    {
      "cell_type": "markdown",
      "metadata": {
        "id": "4ZB7g-FjM5gN"
      },
      "source": [
        "Feature Engineering"
      ]
    },
    {
      "cell_type": "code",
      "metadata": {
        "id": "MFcMUw9vM4uk"
      },
      "source": [
        "feature_train = feature_train.reshape((feature_train.shape[0], 28, 28, 1))\n",
        "feature_test = feature_test.reshape((feature_test.shape[0], 28, 28, 1))"
      ],
      "execution_count": null,
      "outputs": []
    },
    {
      "cell_type": "code",
      "metadata": {
        "id": "AbFBNgiANKyB"
      },
      "source": [
        "from tensorflow.keras.utils import to_categorical\n",
        "label_train = to_categorical(label_train)\n",
        "label_test = to_categorical(label_test)\n",
        "\n",
        "print(label_train)"
      ],
      "execution_count": null,
      "outputs": []
    },
    {
      "cell_type": "code",
      "metadata": {
        "id": "OLBLOBwJNZqY"
      },
      "source": [
        "feature_train = feature_train.astype('float32')\n",
        "feature_test = feature_test.astype('float32')\n",
        "\n",
        "feature_train = feature_train / 255.0\n",
        "feature_test = feature_test / 255.0"
      ],
      "execution_count": null,
      "outputs": []
    },
    {
      "cell_type": "code",
      "metadata": {
        "id": "FJaM5uOlNtrv"
      },
      "source": [
        "from tensorflow.keras.models import Sequential\n",
        "from tensorflow.keras.layers import Conv2D, MaxPool2D, Dense, Flatten, BatchNormalization\n",
        "from tensorflow.keras.optimizers import SGD"
      ],
      "execution_count": null,
      "outputs": []
    },
    {
      "cell_type": "code",
      "metadata": {
        "id": "fzTKMJG3OZoQ"
      },
      "source": [
        "base_model = Sequential()\n",
        "\n",
        "base_model.add(Flatten(input_shape=(28, 28, 1)))\n",
        "base_model.add(Dense(128, activation='relu', kernel_initializer='he_uniform'))\n",
        "base_model.add(Dense(10, activation='softmax'))\n",
        "\n",
        "opt = SGD(lr=0.01, momentum=0.9)\n",
        "\n",
        "base_model.compile(optimizer=opt, loss='categorical_crossentropy', metrics=['accuracy'])\n",
        "\n",
        "base_model.summary()"
      ],
      "execution_count": null,
      "outputs": []
    },
    {
      "cell_type": "code",
      "metadata": {
        "id": "DbxWQvK6PZ4d"
      },
      "source": [
        "from tensorflow.keras.callbacks import ModelCheckpoint\n",
        "\n",
        "filepath = \"weights-improvement-best.h5\"\n",
        "checkpoint = ModelCheckpoint(filepath, monitor='val_accuracy', verbose=1, save_best_only=True, mode='max')\n",
        "callbacks_list = [checkpoint]"
      ],
      "execution_count": null,
      "outputs": []
    },
    {
      "cell_type": "markdown",
      "metadata": {
        "id": "jPapEIdGdxka"
      },
      "source": [
        "Tensorboard"
      ]
    },
    {
      "cell_type": "code",
      "metadata": {
        "id": "Dacd5dBedzzC"
      },
      "source": [
        "from tensorflow.keras.callbacks import TensorBoard\n",
        "import os\n",
        "import datetime"
      ],
      "execution_count": null,
      "outputs": []
    },
    {
      "cell_type": "code",
      "metadata": {
        "id": "C899Th7td09F"
      },
      "source": [
        "logdir = os.path.join(\"logs\", datetime.datetime.now().strftime(\"%Y%m%d-%H%M%S\")) \n",
        "callbacks_list.append(TensorBoard(logdir, histogram_freq=1))"
      ],
      "execution_count": null,
      "outputs": []
    },
    {
      "cell_type": "code",
      "metadata": {
        "id": "glCTqGySd2HT"
      },
      "source": [
        "base_model.fit(feature_train, label_train, batch_size=128, validation_data=(feature_test, label_test), epochs=100, callbacks=callbacks_list, verbose=0)"
      ],
      "execution_count": null,
      "outputs": []
    },
    {
      "cell_type": "markdown",
      "metadata": {
        "id": "lMeXFrWFd5Rb"
      },
      "source": [
        "Load extension di jupyter notebook"
      ]
    },
    {
      "cell_type": "code",
      "metadata": {
        "id": "fESfdcFyd6XT"
      },
      "source": [
        "%load_ext tensorboard"
      ],
      "execution_count": null,
      "outputs": []
    },
    {
      "cell_type": "markdown",
      "metadata": {
        "id": "IxAuR7FTd79L"
      },
      "source": [
        "Load tensorboard di dalam jupyter notebook"
      ]
    },
    {
      "cell_type": "code",
      "metadata": {
        "id": "ZvriSvC9d9q5"
      },
      "source": [
        "%tensorboard --logdir logs"
      ],
      "execution_count": null,
      "outputs": []
    },
    {
      "cell_type": "code",
      "metadata": {
        "id": "Ph1CNNg5e71n"
      },
      "source": [
        "model_filename = \"weights-improvement-best.h5\"\n",
        "\n",
        "base_model.load_weights(model_filename)\n",
        "base_model.compile(optimizer=opt, loss='categorical_crossentropy', metrics=['accuracy'])"
      ],
      "execution_count": null,
      "outputs": []
    },
    {
      "cell_type": "markdown",
      "metadata": {
        "id": "tJc_n7YFf-0m"
      },
      "source": [
        "Prediksi terhadap validation data"
      ]
    },
    {
      "cell_type": "code",
      "metadata": {
        "id": "NHACQsoLgEEK"
      },
      "source": [
        "predictions = base_model.predict(feature_test)\n",
        "predictions"
      ],
      "execution_count": null,
      "outputs": []
    },
    {
      "cell_type": "code",
      "metadata": {
        "id": "0mokuSbdgYS2"
      },
      "source": [
        "import numpy as np\n",
        "import matplotlib.pyplot as plt"
      ],
      "execution_count": null,
      "outputs": []
    },
    {
      "cell_type": "markdown",
      "metadata": {
        "id": "yDQ5SgDdgKYL"
      },
      "source": [
        "Dari semua output score(output dapatkan dengan nilai paling tinggi)"
      ]
    },
    {
      "cell_type": "code",
      "metadata": {
        "id": "9CI7GsM0gJDq"
      },
      "source": [
        "np.argmax(predictions[0])"
      ],
      "execution_count": null,
      "outputs": []
    },
    {
      "cell_type": "code",
      "metadata": {
        "id": "0tAgCjNygaTx"
      },
      "source": [
        "np.argmax(predictions[1])"
      ],
      "execution_count": null,
      "outputs": []
    },
    {
      "cell_type": "code",
      "metadata": {
        "id": "Cj4_IFqPgc17"
      },
      "source": [
        "plt.imshow(feature_test[0].reshape(28, 28), cmap=plt.get_cmap('gray'))"
      ],
      "execution_count": null,
      "outputs": []
    },
    {
      "cell_type": "markdown",
      "metadata": {
        "id": "aJtA24JFg8Pd"
      },
      "source": [
        "Prediksi terhadap gambar baru"
      ]
    },
    {
      "cell_type": "code",
      "metadata": {
        "id": "AzJXr-aIg-5Z"
      },
      "source": [
        "import cv2 as cv"
      ],
      "execution_count": null,
      "outputs": []
    },
    {
      "cell_type": "code",
      "metadata": {
        "id": "ja8P-1pehD9x"
      },
      "source": [
        "image = cv.imread('/content/drive/My Drive/Images/sample.jpg',0)\n",
        "\n",
        "image = image.astype('float32')\n",
        "\n",
        "image = image / 255.0"
      ],
      "execution_count": null,
      "outputs": []
    },
    {
      "cell_type": "code",
      "metadata": {
        "id": "Uf-fJGkphaQT"
      },
      "source": [
        "plt.imshow(image)"
      ],
      "execution_count": null,
      "outputs": []
    },
    {
      "cell_type": "code",
      "metadata": {
        "id": "klXLJQNWhelW"
      },
      "source": [
        "image = image.reshape(1, 28, 28, 1)"
      ],
      "execution_count": null,
      "outputs": []
    },
    {
      "cell_type": "code",
      "metadata": {
        "id": "DgZJXADShitQ"
      },
      "source": [
        "predictions = base_model.predict(image)\n",
        "predictions"
      ],
      "execution_count": null,
      "outputs": []
    },
    {
      "cell_type": "markdown",
      "metadata": {
        "id": "uHtKEfcDhoLW"
      },
      "source": [
        "Dari semua output score (output didapatkan dengan nilai tertinggi)"
      ]
    },
    {
      "cell_type": "code",
      "metadata": {
        "id": "s1KqCl9khvRp"
      },
      "source": [
        "np.argmax(predictions[0])"
      ],
      "execution_count": null,
      "outputs": []
    },
    {
      "cell_type": "markdown",
      "metadata": {
        "id": "wGY1-0Syhtb_"
      },
      "source": [
        "Implementasi di Python"
      ]
    },
    {
      "cell_type": "code",
      "metadata": {
        "id": "d1PJthNniDVv"
      },
      "source": [
        "!pip install flask-ngrok"
      ],
      "execution_count": null,
      "outputs": []
    },
    {
      "cell_type": "code",
      "metadata": {
        "id": "vVhcrSnViGuu"
      },
      "source": [
        "from flask_ngrok import run_with_ngrok\n",
        "from flask import Flask, flash, request, redirect, url_for, jsonify\n",
        "from werkzeug.utils import secure_filename"
      ],
      "execution_count": null,
      "outputs": []
    },
    {
      "cell_type": "code",
      "metadata": {
        "id": "evABoVyHsYId"
      },
      "source": [
        "app = Flask(__name__)\n",
        "UPLOAD_FOLDER = '/content/'\n",
        "ALLOWED_EXTENSIONS = {'png', 'jpg', 'jpeg'}\n",
        "app.config['UPLOAD_FOLDER'] = UPLOAD_FOLDER\n",
        "\n",
        "@app.route(\"/home\")\n",
        "def home():\n",
        "    html=\"\"\"<html>\n",
        "    <body>\n",
        "\n",
        "    <form action=\"/classify\" method=\"post\" enctype=\"multipart/form-data\">\n",
        "    Select image to upload:\n",
        "    <input type=\"file\" name=\"fileToUpload\" id=\"fileToUpload\">\n",
        "    <input type=\"submit\" value=\"Upload Image\" name=\"submit\">\n",
        "    </form>\n",
        "    </body>\n",
        "    </html>\"\"\"\n",
        "\n",
        "    return html"
      ],
      "execution_count": null,
      "outputs": []
    },
    {
      "cell_type": "code",
      "metadata": {
        "id": "NoyugqUKAVol"
      },
      "source": [
        "@app.route('/classify', methods=['POST'])\n",
        "def classify():\n",
        "    file = request.files['fileToUpload']\n",
        "    if file:\n",
        "        filename = secure_filename(file.filename)\n",
        "        file.save(os.path.join(app.config['UPLOAD_FOLDER'], filename))\n",
        "\n",
        "    image = cv.imread(UPLOAD_FOLDER+filename ,0)\n",
        "    image = image.astype('float32')\n",
        "    image = image / 255.0\n",
        "    image = image.reshape(1, 28, 28, 1)\n",
        "\n",
        "    base_model.load_weights('weights-improvement-best.h5')\n",
        "    base_model.compile(optimizer=opt, loss='categorical_crossentropy', metrics=['accuracy'])\n",
        "\n",
        "    predictions = base_model.predict(image)\n",
        "    nilai = np.argmax(predictions[0]).tolist()\n",
        "\n",
        "    return jsonify({\"output\": nilai})"
      ],
      "execution_count": null,
      "outputs": []
    },
    {
      "cell_type": "code",
      "metadata": {
        "id": "I4mNQVo0iuet"
      },
      "source": [
        "run_with_ngrok(app)\n",
        "\n",
        "app.run()"
      ],
      "execution_count": null,
      "outputs": []
    },
    {
      "cell_type": "markdown",
      "metadata": {
        "id": "74WSzdvpGp1F"
      },
      "source": [
        "![image.png](data:image/png;base64,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)"
      ]
    },
    {
      "cell_type": "markdown",
      "metadata": {
        "id": "UqV11-A3Gsb3"
      },
      "source": [
        "![image.png](data:image/png;base64,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)"
      ]
    },
    {
      "cell_type": "markdown",
      "metadata": {
        "id": "7bdNUP1LG2Jf"
      },
      "source": [
        "![image.png](data:image/png;base64,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)"
      ]
    },
    {
      "cell_type": "markdown",
      "metadata": {
        "id": "sAkR2zmlG_DY"
      },
      "source": [
        "Hasil prediksi telah sesuai dengan isi dari gambar yang di input"
      ]
    }
  ]
}