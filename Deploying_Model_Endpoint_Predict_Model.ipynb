{
  "nbformat": 4,
  "nbformat_minor": 0,
  "metadata": {
    "colab": {
      "name": "Deploying Model-Endpoint Predict Model.ipynb",
      "provenance": [],
      "collapsed_sections": []
    },
    "kernelspec": {
      "name": "python3",
      "display_name": "Python 3"
    }
  },
  "cells": [
    {
      "cell_type": "markdown",
      "metadata": {
        "id": "aBg5BJYDhT1u"
      },
      "source": [
        "# Menyimpan Model Scikit-Learn"
      ]
    },
    {
      "cell_type": "code",
      "metadata": {
        "id": "DRUkmYUZhLAb"
      },
      "source": [
        "import pandas as pd\n",
        "import numpy as np\n",
        "import matplotlib.pyplot as plt\n",
        "import seaborn as sns"
      ],
      "execution_count": null,
      "outputs": []
    },
    {
      "cell_type": "code",
      "metadata": {
        "id": "9GKNeK0Chmzs",
        "outputId": "5f97b3ea-3a3f-4c46-dc89-44bcb925be9a",
        "colab": {
          "base_uri": "https://localhost:8080/",
          "height": 204
        }
      },
      "source": [
        "dataset = pd.read_csv('/content/drive/My Drive/Datasets/iris.csv')\n",
        "\n",
        "dataset.head()"
      ],
      "execution_count": null,
      "outputs": [
        {
          "output_type": "execute_result",
          "data": {
            "text/html": [
              "<div>\n",
              "<style scoped>\n",
              "    .dataframe tbody tr th:only-of-type {\n",
              "        vertical-align: middle;\n",
              "    }\n",
              "\n",
              "    .dataframe tbody tr th {\n",
              "        vertical-align: top;\n",
              "    }\n",
              "\n",
              "    .dataframe thead th {\n",
              "        text-align: right;\n",
              "    }\n",
              "</style>\n",
              "<table border=\"1\" class=\"dataframe\">\n",
              "  <thead>\n",
              "    <tr style=\"text-align: right;\">\n",
              "      <th></th>\n",
              "      <th>Id</th>\n",
              "      <th>SepalLengthCm</th>\n",
              "      <th>SepalWidthCm</th>\n",
              "      <th>PetalLengthCm</th>\n",
              "      <th>PetalWidthCm</th>\n",
              "      <th>Species</th>\n",
              "    </tr>\n",
              "  </thead>\n",
              "  <tbody>\n",
              "    <tr>\n",
              "      <th>0</th>\n",
              "      <td>1</td>\n",
              "      <td>5.1</td>\n",
              "      <td>3.5</td>\n",
              "      <td>1.4</td>\n",
              "      <td>0.2</td>\n",
              "      <td>Iris-setosa</td>\n",
              "    </tr>\n",
              "    <tr>\n",
              "      <th>1</th>\n",
              "      <td>2</td>\n",
              "      <td>4.9</td>\n",
              "      <td>3.0</td>\n",
              "      <td>1.4</td>\n",
              "      <td>0.2</td>\n",
              "      <td>Iris-setosa</td>\n",
              "    </tr>\n",
              "    <tr>\n",
              "      <th>2</th>\n",
              "      <td>3</td>\n",
              "      <td>4.7</td>\n",
              "      <td>3.2</td>\n",
              "      <td>1.3</td>\n",
              "      <td>0.2</td>\n",
              "      <td>Iris-setosa</td>\n",
              "    </tr>\n",
              "    <tr>\n",
              "      <th>3</th>\n",
              "      <td>4</td>\n",
              "      <td>4.6</td>\n",
              "      <td>3.1</td>\n",
              "      <td>1.5</td>\n",
              "      <td>0.2</td>\n",
              "      <td>Iris-setosa</td>\n",
              "    </tr>\n",
              "    <tr>\n",
              "      <th>4</th>\n",
              "      <td>5</td>\n",
              "      <td>5.0</td>\n",
              "      <td>3.6</td>\n",
              "      <td>1.4</td>\n",
              "      <td>0.2</td>\n",
              "      <td>Iris-setosa</td>\n",
              "    </tr>\n",
              "  </tbody>\n",
              "</table>\n",
              "</div>"
            ],
            "text/plain": [
              "   Id  SepalLengthCm  SepalWidthCm  PetalLengthCm  PetalWidthCm      Species\n",
              "0   1            5.1           3.5            1.4           0.2  Iris-setosa\n",
              "1   2            4.9           3.0            1.4           0.2  Iris-setosa\n",
              "2   3            4.7           3.2            1.3           0.2  Iris-setosa\n",
              "3   4            4.6           3.1            1.5           0.2  Iris-setosa\n",
              "4   5            5.0           3.6            1.4           0.2  Iris-setosa"
            ]
          },
          "metadata": {
            "tags": []
          },
          "execution_count": 191
        }
      ]
    },
    {
      "cell_type": "code",
      "metadata": {
        "id": "spdKcknFh10H"
      },
      "source": [
        "label = dataset['Species']\n",
        "feature = dataset.drop(['Id', 'Species'], axis=1)\n",
        "\n",
        "from sklearn.preprocessing import StandardScaler\n",
        "scaler = StandardScaler()\n",
        "scaler.fit(feature)\n",
        "\n",
        "feature_scaled = scaler.transform(feature)\n",
        "data_feature = pd.DataFrame(feature_scaled, columns=feature.columns)"
      ],
      "execution_count": null,
      "outputs": []
    },
    {
      "cell_type": "code",
      "metadata": {
        "id": "r3T5omlfigah"
      },
      "source": [
        "from sklearn.model_selection import train_test_split\n",
        "feature_train, feature_test, label_train, label_test = train_test_split(data_feature, label, test_size=0.15)"
      ],
      "execution_count": null,
      "outputs": []
    },
    {
      "cell_type": "code",
      "metadata": {
        "id": "IEo_M9Aejj4P"
      },
      "source": [
        "from sklearn.linear_model import LogisticRegression\n",
        "from sklearn.metrics import f1_score, precision_score, recall_score"
      ],
      "execution_count": null,
      "outputs": []
    },
    {
      "cell_type": "markdown",
      "metadata": {
        "id": "_TSvOhiFjUmR"
      },
      "source": [
        "# Object model : `logreg`"
      ]
    },
    {
      "cell_type": "code",
      "metadata": {
        "id": "KzHrn8zAjUTw"
      },
      "source": [
        "logreg = LogisticRegression()\n",
        "logreg.fit(feature_train, label_train)\n",
        "label_pred = logreg.predict(feature_test)"
      ],
      "execution_count": null,
      "outputs": []
    },
    {
      "cell_type": "code",
      "metadata": {
        "id": "bgZIFahtkA5K",
        "outputId": "b1db52b8-5a30-4449-9c4e-8bc23e383ab8",
        "colab": {
          "base_uri": "https://localhost:8080/",
          "height": 85
        }
      },
      "source": [
        "print('Accuracy of logistic regressin classifier on test set: {:.2f}'.format(logreg.score(feature_test, label_test)))\n",
        "print(\"F1 score: \", f1_score(label_test, label_pred, average='macro'))\n",
        "print(\"Precision score: \", precision_score(label_test, label_pred, average='macro'))\n",
        "print(\"Recall score: \", recall_score(label_test, label_pred, average='macro'))"
      ],
      "execution_count": null,
      "outputs": [
        {
          "output_type": "stream",
          "text": [
            "Accuracy of logistic regressin classifier on test set: 0.96\n",
            "F1 score:  0.9581699346405229\n",
            "Precision score:  0.9629629629629629\n",
            "Recall score:  0.9583333333333334\n"
          ],
          "name": "stdout"
        }
      ]
    },
    {
      "cell_type": "markdown",
      "metadata": {
        "id": "BqD_YVAJmLyt"
      },
      "source": [
        "# Save model hasil training"
      ]
    },
    {
      "cell_type": "code",
      "metadata": {
        "id": "BIy-A9tjmSTq"
      },
      "source": [
        "import pickle"
      ],
      "execution_count": null,
      "outputs": []
    },
    {
      "cell_type": "code",
      "metadata": {
        "id": "Bj3aJGcLmYRy"
      },
      "source": [
        "filename = 'model.pickle'\n",
        "pickle.dump(logreg, open(filename, 'wb'))\n",
        "\n",
        "scalername = 'scaler.pickle'\n",
        "pickle.dump(scaler, open(scalername, 'wb'))"
      ],
      "execution_count": null,
      "outputs": []
    },
    {
      "cell_type": "markdown",
      "metadata": {
        "id": "gqsnAPiomvET"
      },
      "source": [
        "# Loading model hasil training"
      ]
    },
    {
      "cell_type": "code",
      "metadata": {
        "id": "OjTp7XB8mucs"
      },
      "source": [
        "loaded_model = pickle.load(open(filename, 'rb'))"
      ],
      "execution_count": null,
      "outputs": []
    },
    {
      "cell_type": "code",
      "metadata": {
        "id": "5wYLZaeVnFnd"
      },
      "source": [
        "label_pred_loaded = loaded_model.predict(feature_test)"
      ],
      "execution_count": null,
      "outputs": []
    },
    {
      "cell_type": "code",
      "metadata": {
        "id": "sksZsDT4nTEh",
        "outputId": "e683de83-d8be-4001-b915-c016c78d9bd9",
        "colab": {
          "base_uri": "https://localhost:8080/",
          "height": 85
        }
      },
      "source": [
        "print('Accuracy of logistic regression classifier on test set: {:.2f}'.format(loaded_model.score(feature_test, label_test))) \n",
        "print('F1 score: ', f1_score(label_test, label_pred_loaded, average='macro'))\n",
        "print('Precision score: ', precision_score(label_test, label_pred_loaded, average='macro'))\n",
        "print('Recall score: ', recall_score(label_test, label_pred_loaded, average='macro'))"
      ],
      "execution_count": null,
      "outputs": [
        {
          "output_type": "stream",
          "text": [
            "Accuracy of logistic regression classifier on test set: 0.96\n",
            "F1 score:  0.9581699346405229\n",
            "Precision score:  0.9629629629629629\n",
            "Recall score:  0.9583333333333334\n"
          ],
          "name": "stdout"
        }
      ]
    },
    {
      "cell_type": "code",
      "metadata": {
        "id": "JIyDOqe8oCP5",
        "outputId": "b8078c9f-29d4-43b8-87d0-2839357a618b",
        "colab": {
          "base_uri": "https://localhost:8080/",
          "height": 762
        }
      },
      "source": [
        "feature_test"
      ],
      "execution_count": null,
      "outputs": [
        {
          "output_type": "execute_result",
          "data": {
            "text/html": [
              "<div>\n",
              "<style scoped>\n",
              "    .dataframe tbody tr th:only-of-type {\n",
              "        vertical-align: middle;\n",
              "    }\n",
              "\n",
              "    .dataframe tbody tr th {\n",
              "        vertical-align: top;\n",
              "    }\n",
              "\n",
              "    .dataframe thead th {\n",
              "        text-align: right;\n",
              "    }\n",
              "</style>\n",
              "<table border=\"1\" class=\"dataframe\">\n",
              "  <thead>\n",
              "    <tr style=\"text-align: right;\">\n",
              "      <th></th>\n",
              "      <th>SepalLengthCm</th>\n",
              "      <th>SepalWidthCm</th>\n",
              "      <th>PetalLengthCm</th>\n",
              "      <th>PetalWidthCm</th>\n",
              "    </tr>\n",
              "  </thead>\n",
              "  <tbody>\n",
              "    <tr>\n",
              "      <th>99</th>\n",
              "      <td>-0.173674</td>\n",
              "      <td>-0.587764</td>\n",
              "      <td>0.194102</td>\n",
              "      <td>0.133226</td>\n",
              "    </tr>\n",
              "    <tr>\n",
              "      <th>49</th>\n",
              "      <td>-1.021849</td>\n",
              "      <td>0.569251</td>\n",
              "      <td>-1.341272</td>\n",
              "      <td>-1.312977</td>\n",
              "    </tr>\n",
              "    <tr>\n",
              "      <th>108</th>\n",
              "      <td>1.038005</td>\n",
              "      <td>-1.281972</td>\n",
              "      <td>1.160819</td>\n",
              "      <td>0.790591</td>\n",
              "    </tr>\n",
              "    <tr>\n",
              "      <th>136</th>\n",
              "      <td>0.553333</td>\n",
              "      <td>0.800654</td>\n",
              "      <td>1.047087</td>\n",
              "      <td>1.579429</td>\n",
              "    </tr>\n",
              "    <tr>\n",
              "      <th>107</th>\n",
              "      <td>1.765012</td>\n",
              "      <td>-0.356361</td>\n",
              "      <td>1.445147</td>\n",
              "      <td>0.790591</td>\n",
              "    </tr>\n",
              "    <tr>\n",
              "      <th>5</th>\n",
              "      <td>-0.537178</td>\n",
              "      <td>1.957669</td>\n",
              "      <td>-1.170675</td>\n",
              "      <td>-1.050031</td>\n",
              "    </tr>\n",
              "    <tr>\n",
              "      <th>55</th>\n",
              "      <td>-0.173674</td>\n",
              "      <td>-0.587764</td>\n",
              "      <td>0.421564</td>\n",
              "      <td>0.133226</td>\n",
              "    </tr>\n",
              "    <tr>\n",
              "      <th>143</th>\n",
              "      <td>1.159173</td>\n",
              "      <td>0.337848</td>\n",
              "      <td>1.217684</td>\n",
              "      <td>1.447956</td>\n",
              "    </tr>\n",
              "    <tr>\n",
              "      <th>84</th>\n",
              "      <td>-0.537178</td>\n",
              "      <td>-0.124958</td>\n",
              "      <td>0.421564</td>\n",
              "      <td>0.396172</td>\n",
              "    </tr>\n",
              "    <tr>\n",
              "      <th>102</th>\n",
              "      <td>1.522676</td>\n",
              "      <td>-0.124958</td>\n",
              "      <td>1.217684</td>\n",
              "      <td>1.185010</td>\n",
              "    </tr>\n",
              "    <tr>\n",
              "      <th>46</th>\n",
              "      <td>-0.900681</td>\n",
              "      <td>1.726266</td>\n",
              "      <td>-1.227541</td>\n",
              "      <td>-1.312977</td>\n",
              "    </tr>\n",
              "    <tr>\n",
              "      <th>115</th>\n",
              "      <td>0.674501</td>\n",
              "      <td>0.337848</td>\n",
              "      <td>0.876490</td>\n",
              "      <td>1.447956</td>\n",
              "    </tr>\n",
              "    <tr>\n",
              "      <th>90</th>\n",
              "      <td>-0.416010</td>\n",
              "      <td>-1.050569</td>\n",
              "      <td>0.364699</td>\n",
              "      <td>0.001753</td>\n",
              "    </tr>\n",
              "    <tr>\n",
              "      <th>91</th>\n",
              "      <td>0.310998</td>\n",
              "      <td>-0.124958</td>\n",
              "      <td>0.478430</td>\n",
              "      <td>0.264699</td>\n",
              "    </tr>\n",
              "    <tr>\n",
              "      <th>135</th>\n",
              "      <td>2.249683</td>\n",
              "      <td>-0.124958</td>\n",
              "      <td>1.331416</td>\n",
              "      <td>1.447956</td>\n",
              "    </tr>\n",
              "    <tr>\n",
              "      <th>35</th>\n",
              "      <td>-1.021849</td>\n",
              "      <td>0.337848</td>\n",
              "      <td>-1.455004</td>\n",
              "      <td>-1.312977</td>\n",
              "    </tr>\n",
              "    <tr>\n",
              "      <th>71</th>\n",
              "      <td>0.310998</td>\n",
              "      <td>-0.587764</td>\n",
              "      <td>0.137236</td>\n",
              "      <td>0.133226</td>\n",
              "    </tr>\n",
              "    <tr>\n",
              "      <th>119</th>\n",
              "      <td>0.189830</td>\n",
              "      <td>-1.976181</td>\n",
              "      <td>0.705893</td>\n",
              "      <td>0.396172</td>\n",
              "    </tr>\n",
              "    <tr>\n",
              "      <th>67</th>\n",
              "      <td>-0.052506</td>\n",
              "      <td>-0.819166</td>\n",
              "      <td>0.194102</td>\n",
              "      <td>-0.261193</td>\n",
              "    </tr>\n",
              "    <tr>\n",
              "      <th>24</th>\n",
              "      <td>-1.264185</td>\n",
              "      <td>0.800654</td>\n",
              "      <td>-1.056944</td>\n",
              "      <td>-1.312977</td>\n",
              "    </tr>\n",
              "    <tr>\n",
              "      <th>12</th>\n",
              "      <td>-1.264185</td>\n",
              "      <td>-0.124958</td>\n",
              "      <td>-1.341272</td>\n",
              "      <td>-1.444450</td>\n",
              "    </tr>\n",
              "    <tr>\n",
              "      <th>39</th>\n",
              "      <td>-0.900681</td>\n",
              "      <td>0.800654</td>\n",
              "      <td>-1.284407</td>\n",
              "      <td>-1.312977</td>\n",
              "    </tr>\n",
              "    <tr>\n",
              "      <th>62</th>\n",
              "      <td>0.189830</td>\n",
              "      <td>-1.976181</td>\n",
              "      <td>0.137236</td>\n",
              "      <td>-0.261193</td>\n",
              "    </tr>\n",
              "  </tbody>\n",
              "</table>\n",
              "</div>"
            ],
            "text/plain": [
              "     SepalLengthCm  SepalWidthCm  PetalLengthCm  PetalWidthCm\n",
              "99       -0.173674     -0.587764       0.194102      0.133226\n",
              "49       -1.021849      0.569251      -1.341272     -1.312977\n",
              "108       1.038005     -1.281972       1.160819      0.790591\n",
              "136       0.553333      0.800654       1.047087      1.579429\n",
              "107       1.765012     -0.356361       1.445147      0.790591\n",
              "5        -0.537178      1.957669      -1.170675     -1.050031\n",
              "55       -0.173674     -0.587764       0.421564      0.133226\n",
              "143       1.159173      0.337848       1.217684      1.447956\n",
              "84       -0.537178     -0.124958       0.421564      0.396172\n",
              "102       1.522676     -0.124958       1.217684      1.185010\n",
              "46       -0.900681      1.726266      -1.227541     -1.312977\n",
              "115       0.674501      0.337848       0.876490      1.447956\n",
              "90       -0.416010     -1.050569       0.364699      0.001753\n",
              "91        0.310998     -0.124958       0.478430      0.264699\n",
              "135       2.249683     -0.124958       1.331416      1.447956\n",
              "35       -1.021849      0.337848      -1.455004     -1.312977\n",
              "71        0.310998     -0.587764       0.137236      0.133226\n",
              "119       0.189830     -1.976181       0.705893      0.396172\n",
              "67       -0.052506     -0.819166       0.194102     -0.261193\n",
              "24       -1.264185      0.800654      -1.056944     -1.312977\n",
              "12       -1.264185     -0.124958      -1.341272     -1.444450\n",
              "39       -0.900681      0.800654      -1.284407     -1.312977\n",
              "62        0.189830     -1.976181       0.137236     -0.261193"
            ]
          },
          "metadata": {
            "tags": []
          },
          "execution_count": 202
        }
      ]
    },
    {
      "cell_type": "markdown",
      "metadata": {
        "id": "1Co8BmZ9tZt4"
      },
      "source": [
        "# Contoh prediksi data tunggal"
      ]
    },
    {
      "cell_type": "code",
      "metadata": {
        "id": "wLjXtPqpoDcc",
        "outputId": "49e7a2a3-eabe-4cfe-d521-83ec885adc1a",
        "colab": {
          "base_uri": "https://localhost:8080/",
          "height": 35
        }
      },
      "source": [
        "test_data = [[-1.264185,\t-0.124958,\t-1.341272,\t-1.444450]] # Dari row 12\n",
        "\n",
        "prediction_example = loaded_model.predict(test_data)\n",
        "\n",
        "prediction_example[0]"
      ],
      "execution_count": null,
      "outputs": [
        {
          "output_type": "execute_result",
          "data": {
            "application/vnd.google.colaboratory.intrinsic+json": {
              "type": "string"
            },
            "text/plain": [
              "'Iris-setosa'"
            ]
          },
          "metadata": {
            "tags": []
          },
          "execution_count": 66
        }
      ]
    },
    {
      "cell_type": "code",
      "metadata": {
        "id": "sAVhtFnqUw7o",
        "outputId": "d3ce2309-91d1-4e01-b0bc-a10e1578d86d",
        "colab": {
          "base_uri": "https://localhost:8080/",
          "height": 35
        }
      },
      "source": [
        "# Cek scaler.pickle\n",
        "iris = [[5.1, 3.5, 1.4, 0.2]]\n",
        "iris1 = [[4.9,\t3.0,\t1.4,\t0.2]]\n",
        "\n",
        "loaded_scaler = pickle.load(open(scalername, 'rb'))\n",
        "\n",
        "iris_transform = loaded_scaler.transform(iris1)\n",
        "iris_transform\n",
        "\n",
        "prediction_example = loaded_model.predict(iris_transform)\n",
        "\n",
        "prediction_example[0]\n"
      ],
      "execution_count": null,
      "outputs": [
        {
          "output_type": "execute_result",
          "data": {
            "application/vnd.google.colaboratory.intrinsic+json": {
              "type": "string"
            },
            "text/plain": [
              "'Iris-setosa'"
            ]
          },
          "metadata": {
            "tags": []
          },
          "execution_count": 224
        }
      ]
    },
    {
      "cell_type": "markdown",
      "metadata": {
        "id": "SPZmUQOBuFxI"
      },
      "source": [
        "# Contoh prediksi data batch"
      ]
    },
    {
      "cell_type": "code",
      "metadata": {
        "id": "Ik-Sdd1kvQqR",
        "outputId": "3e6f45cd-5d94-4be3-b5c4-1809ce182f75",
        "colab": {
          "base_uri": "https://localhost:8080/",
          "height": 85
        }
      },
      "source": [
        "test_data_batch = [\n",
        "               [1.401508,\t0.337848,\t0.535296,\t0.264699],\n",
        "               [-0.294842,\t-0.124958,\t0.421564,\t0.396172],\n",
        "               [0.068662,\t-0.124958,\t0.762759,\t0.790591],\n",
        "               [-0.294842,\t-0.356361,\t-0.090227,\t0.133226]\n",
        "               ] # Dari row 50, 66, 149, 64\n",
        "\n",
        "prediction_example = loaded_model.predict(test_data_batch)\n",
        "\n",
        "for i in range(len(test_data_batch)):\n",
        "  print(\"Test data=%s, Predicted=%s\" % (test_data_batch[i], prediction_example[i]))\n",
        "    # print('Test data={}, Predicted={}'.format(test_data_batch[i], prediction_example[i]))"
      ],
      "execution_count": null,
      "outputs": [
        {
          "output_type": "stream",
          "text": [
            "Test data=[1.401508, 0.337848, 0.535296, 0.264699], Predicted=Iris-versicolor\n",
            "Test data=[-0.294842, -0.124958, 0.421564, 0.396172], Predicted=Iris-versicolor\n",
            "Test data=[0.068662, -0.124958, 0.762759, 0.790591], Predicted=Iris-virginica\n",
            "Test data=[-0.294842, -0.356361, -0.090227, 0.133226], Predicted=Iris-versicolor\n"
          ],
          "name": "stdout"
        }
      ]
    },
    {
      "cell_type": "markdown",
      "metadata": {
        "id": "HOb1PDghhMIw"
      },
      "source": [
        "# JSON"
      ]
    },
    {
      "cell_type": "markdown",
      "metadata": {
        "id": "i4ik_BzyKYcl"
      },
      "source": [
        "\n",
        "\n",
        "```\n",
        "Data dari data awal row 1\n",
        "{\n",
        "  \"sepal_length\": 5.1,\n",
        "  \"sepal_width\": 3.5,\n",
        "  \"petal_length\": 1.4,\n",
        "  \"petal_width\": 0.2\n",
        "\n",
        "}\n",
        "\n",
        "```\n",
        "\n"
      ]
    },
    {
      "cell_type": "markdown",
      "metadata": {
        "id": "2SlugH_yytcL"
      },
      "source": [
        "# Implementasi di Python"
      ]
    },
    {
      "cell_type": "code",
      "metadata": {
        "id": "2wcTg0KTys5V",
        "outputId": "ffa2d078-1e8a-4a44-b8e8-93c7c86c0551",
        "colab": {
          "base_uri": "https://localhost:8080/",
          "height": 241
        }
      },
      "source": [
        "!pip install flask-ngrok"
      ],
      "execution_count": null,
      "outputs": [
        {
          "output_type": "stream",
          "text": [
            "Requirement already satisfied: flask-ngrok in /usr/local/lib/python3.6/dist-packages (0.0.25)\n",
            "Requirement already satisfied: requests in /usr/local/lib/python3.6/dist-packages (from flask-ngrok) (2.23.0)\n",
            "Requirement already satisfied: Flask>=0.8 in /usr/local/lib/python3.6/dist-packages (from flask-ngrok) (1.1.2)\n",
            "Requirement already satisfied: idna<3,>=2.5 in /usr/local/lib/python3.6/dist-packages (from requests->flask-ngrok) (2.10)\n",
            "Requirement already satisfied: certifi>=2017.4.17 in /usr/local/lib/python3.6/dist-packages (from requests->flask-ngrok) (2020.6.20)\n",
            "Requirement already satisfied: chardet<4,>=3.0.2 in /usr/local/lib/python3.6/dist-packages (from requests->flask-ngrok) (3.0.4)\n",
            "Requirement already satisfied: urllib3!=1.25.0,!=1.25.1,<1.26,>=1.21.1 in /usr/local/lib/python3.6/dist-packages (from requests->flask-ngrok) (1.24.3)\n",
            "Requirement already satisfied: Jinja2>=2.10.1 in /usr/local/lib/python3.6/dist-packages (from Flask>=0.8->flask-ngrok) (2.11.2)\n",
            "Requirement already satisfied: Werkzeug>=0.15 in /usr/local/lib/python3.6/dist-packages (from Flask>=0.8->flask-ngrok) (1.0.1)\n",
            "Requirement already satisfied: click>=5.1 in /usr/local/lib/python3.6/dist-packages (from Flask>=0.8->flask-ngrok) (7.1.2)\n",
            "Requirement already satisfied: itsdangerous>=0.24 in /usr/local/lib/python3.6/dist-packages (from Flask>=0.8->flask-ngrok) (1.1.0)\n",
            "Requirement already satisfied: MarkupSafe>=0.23 in /usr/local/lib/python3.6/dist-packages (from Jinja2>=2.10.1->Flask>=0.8->flask-ngrok) (1.1.1)\n"
          ],
          "name": "stdout"
        }
      ]
    },
    {
      "cell_type": "code",
      "metadata": {
        "id": "NHPXYGWPy8tl"
      },
      "source": [
        "from flask_ngrok import run_with_ngrok\n",
        "from flask import Flask"
      ],
      "execution_count": null,
      "outputs": []
    },
    {
      "cell_type": "code",
      "metadata": {
        "id": "sw-QI5XNzDLD"
      },
      "source": [
        "app = Flask(__name__)\n",
        "\n",
        "@app.route(\"/home\")\n",
        "def home():\n",
        "  return \"<h1>Running Flask on Google Colab!</h1>\""
      ],
      "execution_count": null,
      "outputs": []
    },
    {
      "cell_type": "code",
      "metadata": {
        "id": "vVpXRHXZzjx5"
      },
      "source": [
        "from flask import jsonify, request"
      ],
      "execution_count": null,
      "outputs": []
    },
    {
      "cell_type": "code",
      "metadata": {
        "id": "nDzndKeV0MAj"
      },
      "source": [
        "@app.route('/classify', methods=['POST'])\n",
        "def classification():\n",
        "  sepal_length = float(request.json['sepal_length'])\n",
        "  sepal_width = float(request.json['sepal_width'])\n",
        "  petal_length = float(request.json['petal_length'])\n",
        "  petal_width =  float(request.json['petal_width'])\n",
        "\n",
        "  test_data = [[sepal_length, sepal_width, petal_length, petal_width]]\n",
        "\n",
        "  # loaded_scaler = pickle.load(open(scalername, 'rb'))\n",
        "\n",
        "  test_data_scaled = loaded_scaler.transform(test_data)\n",
        "\n",
        "  prediction_example = loaded_model.predict(test_data_scaled)\n",
        "\n",
        "  return jsonify({\n",
        "      \"output\": prediction_example[0]\n",
        "  })"
      ],
      "execution_count": null,
      "outputs": []
    },
    {
      "cell_type": "code",
      "metadata": {
        "id": "8Hi_GAqr170k",
        "outputId": "a769b9c3-eed6-40ef-bbd9-6c9fabb05d74",
        "colab": {
          "base_uri": "https://localhost:8080/",
          "height": 170
        }
      },
      "source": [
        "run_with_ngrok(app)\n",
        "\n",
        "app.run()"
      ],
      "execution_count": null,
      "outputs": [
        {
          "output_type": "stream",
          "text": [
            " * Serving Flask app \"__main__\" (lazy loading)\n",
            " * Environment: production\n",
            "\u001b[31m   WARNING: This is a development server. Do not use it in a production deployment.\u001b[0m\n",
            "\u001b[2m   Use a production WSGI server instead.\u001b[0m\n",
            " * Debug mode: off\n"
          ],
          "name": "stdout"
        },
        {
          "output_type": "stream",
          "text": [
            " * Running on http://127.0.0.1:5000/ (Press CTRL+C to quit)\n"
          ],
          "name": "stderr"
        },
        {
          "output_type": "stream",
          "text": [
            " * Running on http://e9ded020268d.ngrok.io\n",
            " * Traffic stats available on http://127.0.0.1:4040\n"
          ],
          "name": "stdout"
        },
        {
          "output_type": "stream",
          "text": [
            "127.0.0.1 - - [06/Oct/2020 11:48:18] \"\u001b[37mPOST /classify HTTP/1.1\u001b[0m\" 200 -\n"
          ],
          "name": "stderr"
        }
      ]
    },
    {
      "cell_type": "markdown",
      "metadata": {
        "id": "YsNU456PvoMS"
      },
      "source": [
        "![image.png](data:image/png;base64,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)"
      ]
    },
    {
      "cell_type": "markdown",
      "metadata": {
        "id": "e3mnFc8uThB7"
      },
      "source": [
        "Data test yang digunakan berasal dari feature_test, jadi untuk penentuan hasil prediksinya lebih mudah"
      ]
    }
  ]
}